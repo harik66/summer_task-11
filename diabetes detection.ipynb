{
 "cells": [
  {
   "cell_type": "code",
   "execution_count": null,
   "id": "4b16f5bb",
   "metadata": {},
   "outputs": [],
   "source": [
    "import pandas\n"
   ]
  },
  {
   "cell_type": "code",
   "execution_count": null,
   "id": "334a3c43",
   "metadata": {},
   "outputs": [],
   "source": [
    "pandas.read_csv(r'C:\\Users\\harik\\Downloads\\archive (1).zip')"
   ]
  },
  {
   "cell_type": "code",
   "execution_count": null,
   "id": "d5d66331",
   "metadata": {},
   "outputs": [],
   "source": [
    "dataset = pandas.read_csv(r'C:\\Users\\harik\\Downloads\\archive (1).zip', header = None)#we need to be specific to pandas that in this dataset we do not have header\n",
    "# so consiser first line also record"
   ]
  },
  {
   "cell_type": "code",
   "execution_count": null,
   "id": "3572b6d0",
   "metadata": {},
   "outputs": [],
   "source": [
    "dataset.info()"
   ]
  },
  {
   "cell_type": "code",
   "execution_count": null,
   "id": "fa265f46",
   "metadata": {},
   "outputs": [],
   "source": [
    "dataset.head()"
   ]
  },
  {
   "cell_type": "code",
   "execution_count": null,
   "id": "ac21853c",
   "metadata": {},
   "outputs": [],
   "source": [
    "y = dataset[8]#col 8 has value of patient has daibaetes or not so this is our target i.e y\n"
   ]
  },
  {
   "cell_type": "code",
   "execution_count": null,
   "id": "00e007a8",
   "metadata": {},
   "outputs": [],
   "source": [
    "y"
   ]
  },
  {
   "cell_type": "code",
   "execution_count": null,
   "id": "f61ebdb8",
   "metadata": {},
   "outputs": [],
   "source": [
    "X = dataset[[0,1,2,3,4,5,6,7]]"
   ]
  },
  {
   "cell_type": "code",
   "execution_count": null,
   "id": "1821e307",
   "metadata": {},
   "outputs": [],
   "source": [
    "from keras.models import Sequential"
   ]
  },
  {
   "cell_type": "code",
   "execution_count": null,
   "id": "227daf03",
   "metadata": {},
   "outputs": [],
   "source": [
    "model = Sequential()"
   ]
  },
  {
   "cell_type": "code",
   "execution_count": null,
   "id": "f8d42d8d",
   "metadata": {},
   "outputs": [],
   "source": [
    "model.get_config()# here we can see rn model is empty, it is like empty box"
   ]
  },
  {
   "cell_type": "code",
   "execution_count": null,
   "id": "16350d7d",
   "metadata": {},
   "outputs": [],
   "source": [
    "#to add layer we use Dense function : Multiple layer is called dense\n",
    "from keras.layers import Dense"
   ]
  },
  {
   "cell_type": "code",
   "execution_count": null,
   "id": "6e4c295e",
   "metadata": {},
   "outputs": [],
   "source": [
    "model.add(Dense(units=4, #here units=4 -> number of neurons,\n",
    "                kernel_initializer = \"zeros\", # Kernel_initializer=\"zeros\" -> initialize weight as 0,\n",
    "                bias_initializer = \"zeros\", # bias_initialize= \"zeros\" -> initialize bias as zero\n",
    "                input_dim=8, #input_dim=8 , dim stands for dimention -> 8 is number of featrue we have\n",
    "                activation = \"relu\" # relu[ Rectified Linear Unit ] is a function that give value in b/w 0 and infinity\n",
    "               ))"
   ]
  },
  {
   "cell_type": "code",
   "execution_count": null,
   "id": "c4bb34eb",
   "metadata": {},
   "outputs": [],
   "source": [
    "model.get_config() # now we can see here that we have created the layer with 8 feature and 4 neuron\n"
   ]
  },
  {
   "cell_type": "code",
   "execution_count": null,
   "id": "94f84f0b",
   "metadata": {},
   "outputs": [],
   "source": [
    "#To check how many layer we have\n",
    "model.get_layer #here we can see we have only one layer"
   ]
  },
  {
   "cell_type": "code",
   "execution_count": null,
   "id": "cccad0bb",
   "metadata": {},
   "outputs": [],
   "source": [
    "model.summary()"
   ]
  },
  {
   "cell_type": "code",
   "execution_count": null,
   "id": "822ab0e5",
   "metadata": {},
   "outputs": [],
   "source": [
    "# add one more layer\n",
    "# we dont need to specify the dimention as it will automatically detect\n",
    "model.add(Dense(units=4,\n",
    "               activation =\"relu\",\n",
    "               kernel_initializer = \"zeros\",\n",
    "               bias_initializer = \"zeros\"\n",
    "               ))"
   ]
  },
  {
   "cell_type": "code",
   "execution_count": null,
   "id": "ec78a860",
   "metadata": {},
   "outputs": [],
   "source": [
    "model.get_layer"
   ]
  },
  {
   "cell_type": "code",
   "execution_count": null,
   "id": "6f0c3ac3",
   "metadata": {},
   "outputs": [],
   "source": [
    "model.get_config()"
   ]
  },
  {
   "cell_type": "code",
   "execution_count": null,
   "id": "beef8dce",
   "metadata": {},
   "outputs": [],
   "source": [
    "model.summary()"
   ]
  },
  {
   "cell_type": "code",
   "execution_count": null,
   "id": "f18c4707",
   "metadata": {},
   "outputs": [],
   "source": [
    "# Last layer: it usually have single neuron\n",
    "\n",
    "model.add(Dense(units=1,\n",
    "               activation=\"sigmoid\", # sigmoid function -> gives output in 0 and 1\n",
    "               kernel_initializer=\"zeros\",\n",
    "               bias_initializer = \"zeros\" \n",
    "               ))"
   ]
  },
  {
   "cell_type": "code",
   "execution_count": null,
   "id": "25774134",
   "metadata": {},
   "outputs": [],
   "source": [
    "model.get_config()"
   ]
  },
  {
   "cell_type": "code",
   "execution_count": null,
   "id": "4d748141",
   "metadata": {},
   "outputs": [],
   "source": [
    "model.summary()"
   ]
  },
  {
   "cell_type": "code",
   "execution_count": null,
   "id": "f649f688",
   "metadata": {},
   "outputs": [],
   "source": [
    "#After model creation we need to compile the model to tell what is our loss funtion and which optimiser we are going to use\n",
    "\n",
    "from keras.optimizers import Adam"
   ]
  },
  {
   "cell_type": "code",
   "execution_count": null,
   "id": "fceec4a7",
   "metadata": {},
   "outputs": [],
   "source": [
    "model.compile(optimizer = Adam(), loss=\"binary_crossentropy\")\n",
    "#binary_crossentropy is a loss funciton used in binary classification works in 0 and 1."
   ]
  },
  {
   "cell_type": "code",
   "execution_count": null,
   "id": "804d840d",
   "metadata": {},
   "outputs": [],
   "source": [
    "model.fit(X,y) #here we can see the loss we have"
   ]
  },
  {
   "cell_type": "code",
   "execution_count": null,
   "id": "c781bacd",
   "metadata": {},
   "outputs": [],
   "source": [
    "#if we are not happy with the weight and bias then we can go back and reset the weight and bias and again train model\n",
    "# this is called backpropogation\n",
    "# epochs is use to set how many times we need to go back\n",
    "\n",
    "\n",
    "model.fit(X,y, epochs=100)"
   ]
  },
  {
   "cell_type": "code",
   "execution_count": null,
   "id": "7853f729",
   "metadata": {},
   "outputs": [],
   "source": [
    "model.save(\"dia_model.h5\")"
   ]
  },
  {
   "cell_type": "code",
   "execution_count": null,
   "id": "48ff579d",
   "metadata": {},
   "outputs": [],
   "source": []
  }
 ],
 "metadata": {
  "kernelspec": {
   "display_name": "Python 3",
   "language": "python",
   "name": "python3"
  },
  "language_info": {
   "codemirror_mode": {
    "name": "ipython",
    "version": 3
   },
   "file_extension": ".py",
   "mimetype": "text/x-python",
   "name": "python",
   "nbconvert_exporter": "python",
   "pygments_lexer": "ipython3",
   "version": "3.8.8"
  }
 },
 "nbformat": 4,
 "nbformat_minor": 5
}
